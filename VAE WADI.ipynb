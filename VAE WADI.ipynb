{
 "cells": [
  {
   "cell_type": "code",
   "execution_count": 1,
   "metadata": {},
   "outputs": [
    {
     "name": "stdout",
     "output_type": "stream",
     "text": [
      "2.2.0\n",
      "0.10.0\n"
     ]
    }
   ],
   "source": [
    "from __future__ import absolute_import\n",
    "from __future__ import division\n",
    "from __future__ import print_function\n",
    "\n",
    "import numpy as np\n",
    "\n",
    "import tensorflow as tf\n",
    "from tensorflow.python import tf2\n",
    "if not tf2.enabled():\n",
    "    import tensorflow.compat.v2 as tf\n",
    "    tf.enable_v2_behavior()\n",
    "    assert tf2.enabled()\n",
    "\n",
    "# import tensorflow_datasets as tfds\n",
    "import tensorflow_probability as tfp\n",
    "\n",
    "tfk = tf.keras\n",
    "tfkl = tf.keras.layers\n",
    "tfpl = tfp.layers\n",
    "tfd = tfp.distributions\n",
    "\n",
    "from tensorflow.keras.utils import plot_model\n",
    "\n",
    "from tensorflow.keras.callbacks import EarlyStopping, ModelCheckpoint\n",
    "import pandas as pd\n",
    "import matplotlib.pyplot as plt\n",
    "from sklearn.model_selection import train_test_split \n",
    "from sklearn.linear_model import LogisticRegression\n",
    "from sklearn.metrics import classification_report, accuracy_score, roc_auc_score, roc_curve\n",
    "from sklearn.preprocessing import MinMaxScaler\n",
    "from sklearn.manifold import TSNE\n",
    "from sklearn import preprocessing\n",
    "import os\n",
    "\n",
    "%matplotlib inline\n",
    "np.random.seed(0)\n",
    "tf.random.set_seed(0)\n",
    "print(tf.__version__)\n",
    "print(tfp.__version__)"
   ]
  },
  {
   "cell_type": "code",
   "execution_count": 2,
   "metadata": {},
   "outputs": [],
   "source": [
    "### Utility Functions\n",
    "## Plots\n",
    "# Plot Feature Projection [credit: https://www.kaggle.com/shivamb/semi-supervised-classification-using-autoencoders]\n",
    "def tsne_plot(x1, y1, name=\"graph.png\"):\n",
    "    tsne = TSNE(n_components=2, random_state=0)\n",
    "    X_t = tsne.fit_transform(x1)\n",
    "\n",
    "    # plt.figure(figsize=(12, 8))\n",
    "    plt.scatter(X_t[np.where(y1 == 0), 0], X_t[np.where(y1 == 0), 1], marker='o', color='g', linewidth='1', alpha=0.8, label='Normal', s=2)\n",
    "    plt.scatter(X_t[np.where(y1 == 1), 0], X_t[np.where(y1 == 1), 1], marker='o', color='r', linewidth='1', alpha=0.8, label='Attack', s=2)\n",
    "\n",
    "    plt.legend(loc='best');\n",
    "    plt.savefig(name);\n",
    "    plt.show();\n",
    "    \n",
    "# Plot Keras training history\n",
    "def plot_loss(hist):\n",
    "    plt.plot(hist.history['loss'])\n",
    "    plt.plot(hist.history['val_loss'])\n",
    "    plt.title('model loss')\n",
    "    plt.ylabel('loss')\n",
    "    plt.xlabel('epoch')\n",
    "    plt.legend(['train', 'test'], loc='upper left')\n",
    "    plt.yscale('log',basey=10)\n",
    "    plt.show()"
   ]
  },
  {
   "cell_type": "code",
   "execution_count": 3,
   "metadata": {},
   "outputs": [],
   "source": [
    "df = pd.read_csv(\"C:/Users/Ruben/Datasets/WADI/WADI_attackdataLABLE.csv\", low_memory=False)\n",
    "\n",
    "df.columns = [\n",
    "    'ROW','DATE','TIME','1_AIT_001_PV','1_AIT_002_PV','1_AIT_003_PV','1_AIT_004_PV','1_AIT_005_PV','1_FIT_001_PV','1_LS_001_AL',\n",
    "    '1_LS_002_AL','1_LT_001_PV','1_MV_001_STATUS','1_MV_002_STATUS','1_MV_003_STATUS','1_MV_004_STATUS','1_P_001_STATUS',\n",
    "    '1_P_002_STATUS','1_P_003_STATUS','1_P_004_STATUS','1_P_005_STATUS','1_P_006_STATUS','2_DPIT_001_PV','2_FIC_101_CO',\n",
    "    '2_FIC_101_PV','2_FIC_101_SP','2_FIC_201_CO','2_FIC_201_PV','2_FIC_201_SP','2_FIC_301_CO','2_FIC_301_PV','2_FIC_301_SP',\n",
    "    '2_FIC_401_CO','2_FIC_401_PV','2_FIC_401_SP','2_FIC_501_CO','2_FIC_501_PV','2_FIC_501_SP','2_FIC_601_CO','2_FIC_601_PV',\n",
    "    '2_FIC_601_SP','2_FIT_001_PV','2_FIT_002_PV','2_FIT_003_PV','2_FQ_101_PV','2_FQ_201_PV','2_FQ_301_PV','2_FQ_401_PV',\n",
    "    '2_FQ_501_PV','2_FQ_601_PV','2_LS_001_AL','2_LS_002_AL','2_LS_101_AH','2_LS_101_AL','2_LS_201_AH','2_LS_201_AL',\n",
    "    '2_LS_301_AH','2_LS_301_AL','2_LS_401_AH','2_LS_401_AL','2_LS_501_AH','2_LS_501_AL','2_LS_601_AH','2_LS_601_AL',\n",
    "    '2_LT_001_PV','2_LT_002_PV','2_MCV_007_CO','2_MCV_101_CO','2_MCV_201_CO','2_MCV_301_CO','2_MCV_401_CO','2_MCV_501_CO',\n",
    "    '2_MCV_601_CO','2_MV_001_STATUS','2_MV_002_STATUS','2_MV_003_STATUS','2_MV_004_STATUS','2_MV_005_STATUS','2_MV_006_STATUS',\n",
    "    '2_MV_009_STATUS','2_MV_101_STATUS','2_MV_201_STATUS','2_MV_301_STATUS','2_MV_401_STATUS','2_MV_501_STATUS',\n",
    "    '2_MV_601_STATUS','2_P_001_STATUS','2_P_002_STATUS','2_P_003_SPEED','2_P_003_STATUS','2_P_004_SPEED','2_P_004_STATUS',\n",
    "    '2_PIC_003_CO','2_PIC_003_PV','2_PIC_003_SP','2_PIT_001_PV','2_PIT_002_PV','2_PIT_003_PV','2_SV_101_STATUS',\n",
    "    '2_SV_201_STATUS','2_SV_301_STATUS','2_SV_401_STATUS','2_SV_501_STATUS','2_SV_601_STATUS','2A_AIT_001_PV','2A_AIT_002_PV',\n",
    "    '2A_AIT_003_PV','2A_AIT_004_PV','2B_AIT_001_PV','2B_AIT_002_PV','2B_AIT_003_PV','2B_AIT_004_PV','3_AIT_001_PV',\n",
    "    '3_AIT_002_PV','3_AIT_003_PV','3_AIT_004_PV','3_AIT_005_PV','3_FIT_001_PV','3_LS_001_AL','3_LT_001_PV','3_MV_001_STATUS',\n",
    "    '3_MV_002_STATUS','3_MV_003_STATUS','3_P_001_STATUS','3_P_002_STATUS','3_P_003_STATUS','3_P_004_STATUS','LEAK_DIFF_PRESSURE',\n",
    "    'PLANT_START_STOP_LOG','TOTAL_CONS_REQUIRED_FLOW','OUTCOME'\n",
    "]\n",
    "\n",
    "df = df.iloc[1:] # Row only contains labels\n",
    "df = df.drop([172802,172803]) # Rows contain no information, only nan values\n",
    "\n",
    "# 'ROW', 'DATE' and 'TIME' are irrelevant for the thesis.\n",
    "# '2_LS_001_AL', '2_LS_002_AL', '2_P_001_STATUS', '2_P_002_STATUS' contain only nan values\n",
    "# Other dropped columns contain either only 0s, only 1s or only 2s and are therefore irrelevant\n",
    "\n",
    "df = df.drop(['ROW', 'DATE', 'TIME', '1_LS_001_AL', '1_LS_002_AL', '1_P_002_STATUS', '1_P_004_STATUS', '2_LS_001_AL', \n",
    "              '2_LS_002_AL', '2_MV_001_STATUS', '2_MV_002_STATUS', '2_MV_004_STATUS', '2_MV_005_STATUS', '2_MV_009_STATUS',\n",
    "              '2_P_001_STATUS', '2_P_002_STATUS', '2_P_004_STATUS', '2_SV_101_STATUS', '2_SV_201_STATUS', '2_SV_301_STATUS',\n",
    "              '2_SV_401_STATUS', '2_SV_501_STATUS', '2_SV_601_STATUS', '3_AIT_001_PV', '3_LS_001_AL', '3_MV_001_STATUS',\n",
    "              '3_MV_002_STATUS', '3_MV_003_STATUS', '3_P_001_STATUS', '3_P_002_STATUS', '3_P_003_STATUS', '3_P_004_STATUS',\n",
    "              'PLANT_START_STOP_LOG'], axis = 1)\n",
    "\n",
    "# set OUTCOME data type to int and change normal values to 0 / attack values to -1 \n",
    "df['OUTCOME'] = df['OUTCOME'].astype(int)\n",
    "df['OUTCOME'].replace(to_replace = [1], value = 0, inplace = True)\n",
    "df['OUTCOME'].replace(to_replace = [-1], value = 1, inplace = True)\n",
    "\n",
    "# data types need to be numeric to be encoded to z-scores --> convert column object data types to numerics\n",
    "cols = df.columns[df.columns != 'OUTCOME']\n",
    "df[cols] = df[cols].apply(pd.to_numeric, errors='coerce')\n",
    "\n",
    "# Encoding the feature vectors to z-scores\n",
    "cols = list(df.columns[df.columns != 'OUTCOME'])\n",
    "for col in cols:\n",
    "    df[col] = ((df[col] - df[col].mean())/df[col].std(ddof=0))"
   ]
  },
  {
   "cell_type": "code",
   "execution_count": null,
   "metadata": {},
   "outputs": [],
   "source": [
    "# define a method to scale data, looping thru the columns, and passing a scaler\n",
    "from sklearn.preprocessing import MinMaxScaler\n",
    "scaler = MinMaxScaler(feature_range=(-1,1))\n",
    "cols = list(df.columns[df.columns != 'OUTCOME'])\n",
    "for col in cols:\n",
    "    df[col] = scaler.fit_transform(df[col].values.reshape(-1, 1))"
   ]
  },
  {
   "cell_type": "code",
   "execution_count": null,
   "metadata": {},
   "outputs": [],
   "source": [
    "# df = df.drop(['1_AIT_001_PV','1_AIT_002_PV','1_AIT_003_PV','1_AIT_004_PV','1_AIT_005_PV','1_FIT_001_PV',\n",
    "#     '1_LT_001_PV','1_MV_001_STATUS','1_MV_002_STATUS','1_MV_003_STATUS','1_MV_004_STATUS','1_P_001_STATUS','1_P_003_STATUS',\n",
    "#     '1_P_005_STATUS','1_P_006_STATUS','2_DPIT_001_PV','2_FIC_101_CO',\n",
    "#     '2_FIC_101_PV','2_FIC_101_SP','2_FIC_201_CO','2_FIC_201_PV','2_FIC_201_SP','2_FIC_301_CO','2_FIC_301_PV','2_FIC_301_SP',\n",
    "#     '2_FIC_401_CO','2_FIC_401_PV','2_FIC_401_SP','2_FIC_501_CO','2_FIC_501_PV','2_FIC_501_SP','2_FIC_601_CO','2_FIC_601_PV',\n",
    "#     '2_FIC_601_SP','2_FIT_001_PV','2_FIT_002_PV','2_FIT_003_PV','2_FQ_101_PV','2_FQ_201_PV','2_FQ_301_PV','2_FQ_401_PV',\n",
    "#     '2_FQ_501_PV','2_FQ_601_PV','2_LS_101_AH','2_LS_101_AL','2_LS_201_AH','2_LS_201_AL',\n",
    "#     '2_LS_301_AH','2_LS_301_AL','2_LS_401_AH','2_LS_401_AL','2_LS_501_AH','2_LS_501_AL','2_LS_601_AH','2_LS_601_AL',\n",
    "#     '2_LT_001_PV','2_LT_002_PV','2_MCV_007_CO','2_MCV_101_CO','2_MCV_201_CO','2_MCV_301_CO','2_MCV_401_CO','2_MCV_501_CO',\n",
    "#     '2_MCV_601_CO','2_MV_003_STATUS','2_MV_006_STATUS','2_MV_101_STATUS'], axis = 1)"
   ]
  },
  {
   "cell_type": "code",
   "execution_count": null,
   "metadata": {},
   "outputs": [],
   "source": [
    "df.describe()"
   ]
  },
  {
   "cell_type": "code",
   "execution_count": null,
   "metadata": {},
   "outputs": [],
   "source": [
    "print(df.shape)\n",
    "df.head(150)"
   ]
  },
  {
   "cell_type": "code",
   "execution_count": null,
   "metadata": {},
   "outputs": [],
   "source": [
    "df, data_test = train_test_split(df, test_size=0.25)"
   ]
  },
  {
   "cell_type": "code",
   "execution_count": 4,
   "metadata": {},
   "outputs": [
    {
     "name": "stdout",
     "output_type": "stream",
     "text": [
      "(9977, 98)\n"
     ]
    }
   ],
   "source": [
    "attack = df[df['OUTCOME'] == 1]\n",
    "print(attack.shape)"
   ]
  },
  {
   "cell_type": "code",
   "execution_count": 5,
   "metadata": {},
   "outputs": [],
   "source": [
    "normal = df[df['OUTCOME'] == 0].sample(9900)\n",
    "attack = df[df['OUTCOME'] == 1].sample(9900)\n",
    "\n",
    "df1 = normal.append(attack).sample(frac=1).reset_index(drop=True)\n",
    "\n",
    "X = df1.drop(['OUTCOME'], axis = 1).values\n",
    "Y = df1[\"OUTCOME\"].values\n",
    "\n",
    "# tsne_plot(X, Y, \"TSNE_WADI.png\")"
   ]
  },
  {
   "cell_type": "code",
   "execution_count": 6,
   "metadata": {},
   "outputs": [
    {
     "name": "stdout",
     "output_type": "stream",
     "text": [
      "(19800, 97)\n",
      "97\n",
      "(97,)\n",
      "(19800,)\n"
     ]
    }
   ],
   "source": [
    "print(X.shape)\n",
    "print(X.shape[1])\n",
    "print(X[0].shape)\n",
    "print(Y.shape)"
   ]
  },
  {
   "cell_type": "code",
   "execution_count": null,
   "metadata": {},
   "outputs": [],
   "source": [
    "# def dense_layers(sizes):\n",
    "#     return tfk.Sequential([tfkl.Dense(size, activation=tf.nn.leaky_relu) for size in sizes])\n",
    "\n",
    "# original_dim = X.shape[1]\n",
    "# input_shape = X[0].shape\n",
    "# intermediary_dims = [80, 60, 50]\n",
    "# latent_dim = 2\n",
    "# batch_size = 128\n",
    "# max_epochs = 1000\n",
    "\n",
    "# # prior = tfd.Independent(tfd.Normal(loc=tf.zeros(latent_dim), scale=1),\n",
    "# #                         reinterpreted_batch_ndims=1)\n",
    "\n",
    "# prior = tfd.MultivariateNormalDiag(\n",
    "#         loc=tf.zeros([latent_dim]),\n",
    "#         scale_identity_multiplier=1.0)\n",
    "\n",
    "# encoder = tfk.Sequential([\n",
    "#     tfkl.InputLayer(input_shape=input_shape, name='encoder_input'),\n",
    "#     dense_layers(intermediary_dims),\n",
    "#     tfkl.Dense(tfpl.MultivariateNormalTriL.params_size(latent_dim), activation=None),\n",
    "#     tfpl.MultivariateNormalTriL(latent_dim, \n",
    "#                            activity_regularizer=tfpl.KLDivergenceRegularizer(prior)),\n",
    "# ], name='encoder')\n",
    "\n",
    "# encoder.summary()\n",
    "# plot_model(encoder, to_file='vae_mlp_encoder.png', show_shapes=True)\n",
    "\n",
    "# decoder = tfk.Sequential([\n",
    "#     tfkl.InputLayer(input_shape=[latent_dim]),\n",
    "#     dense_layers(reversed(intermediary_dims)),\n",
    "#     tfkl.Dense(tfpl.IndependentNormal.params_size(original_dim), activation=None),\n",
    "#     tfpl.IndependentNormal(original_dim),\n",
    "# ], name='decoder')\n",
    "\n",
    "# decoder.summary()\n",
    "# plot_model(decoder, to_file='vae_mlp_decoder.png', show_shapes=True)\n",
    "\n",
    "# vae = tfk.Model(inputs=encoder.inputs,\n",
    "#                 outputs=decoder(encoder.outputs[0]),\n",
    "#                 name='vae_mlp')\n",
    "\n",
    "# negloglik = lambda x, rv_x: -rv_x.log_prob(x)\n",
    "\n",
    "# vae.compile(optimizer=tf.keras.optimizers.Nadam(), \n",
    "#             loss=negloglik, metrics=[tf.keras.metrics.Accuracy()])\n",
    "\n",
    "# vae.summary()\n",
    "# plot_model(vae,\n",
    "#            to_file='vae_mlp.png',\n",
    "#            show_shapes=True)"
   ]
  },
  {
   "cell_type": "code",
   "execution_count": 7,
   "metadata": {},
   "outputs": [
    {
     "name": "stdout",
     "output_type": "stream",
     "text": [
      "WARNING:tensorflow:From C:\\Users\\Ruben\\miniconda3\\envs\\tensorflow\\lib\\site-packages\\tensorflow\\python\\ops\\linalg\\linear_operator_lower_triangular.py:158: calling LinearOperator.__init__ (from tensorflow.python.ops.linalg.linear_operator) with graph_parents is deprecated and will be removed in a future version.\n",
      "Instructions for updating:\n",
      "Do not pass `graph_parents`.  They will  no longer be used.\n",
      "Model: \"encoder\"\n",
      "_________________________________________________________________\n",
      "Layer (type)                 Output Shape              Param #   \n",
      "=================================================================\n",
      "dense (Dense)                (None, 80)                7840      \n",
      "_________________________________________________________________\n",
      "dense_1 (Dense)              (None, 70)                5670      \n",
      "_________________________________________________________________\n",
      "dense_2 (Dense)              (None, 60)                4260      \n",
      "_________________________________________________________________\n",
      "dense_3 (Dense)              (None, 55)                3355      \n",
      "_________________________________________________________________\n",
      "dense_4 (Dense)              (None, 14)                784       \n",
      "_________________________________________________________________\n",
      "multivariate_normal_tri_l (M ((None, 4), (None, 4))    0         \n",
      "=================================================================\n",
      "Total params: 21,909\n",
      "Trainable params: 21,909\n",
      "Non-trainable params: 0\n",
      "_________________________________________________________________\n",
      "Model: \"decoder\"\n",
      "_________________________________________________________________\n",
      "Layer (type)                 Output Shape              Param #   \n",
      "=================================================================\n",
      "dense_5 (Dense)              (None, 55)                275       \n",
      "_________________________________________________________________\n",
      "dense_6 (Dense)              (None, 60)                3360      \n",
      "_________________________________________________________________\n",
      "dense_7 (Dense)              (None, 70)                4270      \n",
      "_________________________________________________________________\n",
      "dense_8 (Dense)              (None, 80)                5680      \n",
      "_________________________________________________________________\n",
      "dense_9 (Dense)              (None, 194)               15714     \n",
      "_________________________________________________________________\n",
      "independent_normal (Independ ((None, 97), (None, 97))  0         \n",
      "=================================================================\n",
      "Total params: 29,299\n",
      "Trainable params: 29,299\n",
      "Non-trainable params: 0\n",
      "_________________________________________________________________\n",
      "Model: \"vae_mlp\"\n",
      "_________________________________________________________________\n",
      "Layer (type)                 Output Shape              Param #   \n",
      "=================================================================\n",
      "encoder_input (InputLayer)   [(None, 97)]              0         \n",
      "_________________________________________________________________\n",
      "dense (Dense)                (None, 80)                7840      \n",
      "_________________________________________________________________\n",
      "dense_1 (Dense)              (None, 70)                5670      \n",
      "_________________________________________________________________\n",
      "dense_2 (Dense)              (None, 60)                4260      \n",
      "_________________________________________________________________\n",
      "dense_3 (Dense)              (None, 55)                3355      \n",
      "_________________________________________________________________\n",
      "dense_4 (Dense)              (None, 14)                784       \n",
      "_________________________________________________________________\n",
      "multivariate_normal_tri_l (M ((None, 4), (None, 4))    0         \n",
      "_________________________________________________________________\n",
      "decoder (Sequential)         (None, 97)                29299     \n",
      "=================================================================\n",
      "Total params: 51,208\n",
      "Trainable params: 51,208\n",
      "Non-trainable params: 0\n",
      "_________________________________________________________________\n"
     ]
    },
    {
     "data": {
      "image/png": "[encoded data removed]",
      "text/plain": [
       "<IPython.core.display.Image object>"
      ]
     },
     "execution_count": 7,
     "metadata": {},
     "output_type": "execute_result"
    }
   ],
   "source": [
    "# def dense_layers(sizes):\n",
    "#     return tfk.Sequential([tfkl.Dense(size, activation=tf.nn.leaky_relu) for size in sizes])\n",
    "# intermediary_dims = [25, 20, 15, 10, 8]\n",
    "\n",
    "original_dim = X.shape[1]\n",
    "input_shape = X[0].shape\n",
    "latent_dim = 4\n",
    "batch_size = 64\n",
    "max_epochs = 80\n",
    "\n",
    "prior = tfd.MultivariateNormalDiag(loc=tf.zeros([latent_dim]), scale_identity_multiplier=1.0)\n",
    "\n",
    "encoder = tfk.Sequential([\n",
    "    tfkl.InputLayer(input_shape=input_shape, name='encoder_input'),\n",
    "    tfkl.Dense(80, activation='relu'),\n",
    "    tfkl.Dense(70, activation='relu'),\n",
    "    tfkl.Dense(60, activation='relu'),\n",
    "    tfkl.Dense(55, activation='relu'),\n",
    "    tfkl.Dense(tfpl.MultivariateNormalTriL.params_size(latent_dim), activation=None),\n",
    "    tfpl.MultivariateNormalTriL(latent_dim, activity_regularizer=tfpl.KLDivergenceRegularizer(prior)),], name='encoder')\n",
    "\n",
    "\n",
    "encoder.summary()\n",
    "plot_model(encoder, to_file='vae_mlp_encoder.png', show_shapes=True)\n",
    "\n",
    "decoder = tfk.Sequential([\n",
    "    tfkl.InputLayer(input_shape=[latent_dim]),\n",
    "    tfkl.Dense(55, activation='relu'),\n",
    "    tfkl.Dense(60, activation='relu'),\n",
    "    tfkl.Dense(70, activation='relu'),\n",
    "    tfkl.Dense(80, activation='relu'),\n",
    "    tfkl.Dense(tfpl.IndependentNormal.params_size(original_dim), activation=None), \n",
    "    tfpl.IndependentNormal(original_dim),], name='decoder')\n",
    "\n",
    "decoder.summary()\n",
    "plot_model(decoder, to_file='vae_mlp_decoder.png', show_shapes=True)\n",
    "\n",
    "vae = tfk.Model(inputs=encoder.inputs, outputs=decoder(encoder.outputs[0]), name='vae_mlp')\n",
    "\n",
    "negloglik = lambda x, rv_x: -rv_x.log_prob(x)\n",
    "\n",
    "vae.compile(optimizer=tf.keras.optimizers.Nadam(), loss=negloglik, metrics=['accuracy'])\n",
    "\n",
    "vae.summary()\n",
    "\n",
    "plot_model(vae, to_file='vae_mlp.png', show_shapes=True)"
   ]
  },
  {
   "cell_type": "code",
   "execution_count": 8,
   "metadata": {},
   "outputs": [],
   "source": [
    "x = df.drop([\"OUTCOME\"], axis=1)\n",
    "y = df[\"OUTCOME\"].values\n",
    "\n",
    "x_norm, x_fraud = x.values[y == 0], x.values[y == 1]\n",
    "\n",
    "x_norm_sample = x_norm[np.random.randint(x_norm.shape[0], size=100000), :]\n",
    "x_norm_train_sample, x_norm_val_sample = train_test_split(x_norm_sample, test_size=0.2)"
   ]
  },
  {
   "cell_type": "code",
   "execution_count": 9,
   "metadata": {},
   "outputs": [
    {
     "name": "stdout",
     "output_type": "stream",
     "text": [
      "(162824, 97)\n",
      "(9977, 97)\n",
      "(100000, 97)\n",
      "(80000, 97)\n",
      "(20000, 97)\n"
     ]
    }
   ],
   "source": [
    "print(x_norm.shape)\n",
    "print(x_fraud.shape)\n",
    "print(x_norm_sample.shape)\n",
    "print(x_norm_train_sample.shape)\n",
    "print(x_norm_val_sample.shape)"
   ]
  },
  {
   "cell_type": "code",
   "execution_count": null,
   "metadata": {},
   "outputs": [],
   "source": [
    "batch_size = 64\n",
    "max_epochs = 50"
   ]
  },
  {
   "cell_type": "code",
   "execution_count": null,
   "metadata": {},
   "outputs": [],
   "source": [
    "tf_train = tf.data.Dataset.from_tensor_slices(\n",
    "    (x_norm_train_sample, x_norm_train_sample)).batch(batch_size).prefetch(tf.data.experimental.AUTOTUNE).shuffle(int(10e4))\n",
    "\n",
    "tf_val = tf.data.Dataset.from_tensor_slices(\n",
    "    (x_norm_val_sample, x_norm_val_sample)).batch(batch_size).prefetch(tf.data.experimental.AUTOTUNE).shuffle(int(10e4))"
   ]
  },
  {
   "cell_type": "code",
   "execution_count": 10,
   "metadata": {},
   "outputs": [
    {
     "name": "stdout",
     "output_type": "stream",
     "text": [
      "Epoch 1/80\n",
      "2260/2500 [==========================>...] - ETA: 1s - loss: 71.0694 - accuracy: 0.0393"
     ]
    },
    {
     "ename": "KeyboardInterrupt",
     "evalue": "",
     "output_type": "error",
     "traceback": [
      "\u001b[1;31m---------------------------------------------------------------------------\u001b[0m",
      "\u001b[1;31mKeyboardInterrupt\u001b[0m                         Traceback (most recent call last)",
      "\u001b[1;32m<ipython-input-10-91ebc898cb73>\u001b[0m in \u001b[0;36m<module>\u001b[1;34m\u001b[0m\n\u001b[0;32m      6\u001b[0m \u001b[1;33m\u001b[0m\u001b[0m\n\u001b[0;32m      7\u001b[0m hist = vae.fit(x_norm_train_sample, x_norm_train_sample, epochs=max_epochs, shuffle=True, verbose=1,\n\u001b[1;32m----> 8\u001b[1;33m                validation_data=(x_norm_val_sample, x_norm_val_sample), callbacks=[checkpointer, earlystopper])\n\u001b[0m\u001b[0;32m      9\u001b[0m \u001b[1;33m\u001b[0m\u001b[0m\n\u001b[0;32m     10\u001b[0m \u001b[0mplot_loss\u001b[0m\u001b[1;33m(\u001b[0m\u001b[0mhist\u001b[0m\u001b[1;33m)\u001b[0m\u001b[1;33m\u001b[0m\u001b[1;33m\u001b[0m\u001b[0m\n",
      "\u001b[1;32m~\\miniconda3\\envs\\tensorflow\\lib\\site-packages\\tensorflow\\python\\keras\\engine\\training.py\u001b[0m in \u001b[0;36m_method_wrapper\u001b[1;34m(self, *args, **kwargs)\u001b[0m\n\u001b[0;32m     64\u001b[0m   \u001b[1;32mdef\u001b[0m \u001b[0m_method_wrapper\u001b[0m\u001b[1;33m(\u001b[0m\u001b[0mself\u001b[0m\u001b[1;33m,\u001b[0m \u001b[1;33m*\u001b[0m\u001b[0margs\u001b[0m\u001b[1;33m,\u001b[0m \u001b[1;33m**\u001b[0m\u001b[0mkwargs\u001b[0m\u001b[1;33m)\u001b[0m\u001b[1;33m:\u001b[0m\u001b[1;33m\u001b[0m\u001b[1;33m\u001b[0m\u001b[0m\n\u001b[0;32m     65\u001b[0m     \u001b[1;32mif\u001b[0m \u001b[1;32mnot\u001b[0m \u001b[0mself\u001b[0m\u001b[1;33m.\u001b[0m\u001b[0m_in_multi_worker_mode\u001b[0m\u001b[1;33m(\u001b[0m\u001b[1;33m)\u001b[0m\u001b[1;33m:\u001b[0m  \u001b[1;31m# pylint: disable=protected-access\u001b[0m\u001b[1;33m\u001b[0m\u001b[1;33m\u001b[0m\u001b[0m\n\u001b[1;32m---> 66\u001b[1;33m       \u001b[1;32mreturn\u001b[0m \u001b[0mmethod\u001b[0m\u001b[1;33m(\u001b[0m\u001b[0mself\u001b[0m\u001b[1;33m,\u001b[0m \u001b[1;33m*\u001b[0m\u001b[0margs\u001b[0m\u001b[1;33m,\u001b[0m \u001b[1;33m**\u001b[0m\u001b[0mkwargs\u001b[0m\u001b[1;33m)\u001b[0m\u001b[1;33m\u001b[0m\u001b[1;33m\u001b[0m\u001b[0m\n\u001b[0m\u001b[0;32m     67\u001b[0m \u001b[1;33m\u001b[0m\u001b[0m\n\u001b[0;32m     68\u001b[0m     \u001b[1;31m# Running inside `run_distribute_coordinator` already.\u001b[0m\u001b[1;33m\u001b[0m\u001b[1;33m\u001b[0m\u001b[1;33m\u001b[0m\u001b[0m\n",
      "\u001b[1;32m~\\miniconda3\\envs\\tensorflow\\lib\\site-packages\\tensorflow\\python\\keras\\engine\\training.py\u001b[0m in \u001b[0;36mfit\u001b[1;34m(self, x, y, batch_size, epochs, verbose, callbacks, validation_split, validation_data, shuffle, class_weight, sample_weight, initial_epoch, steps_per_epoch, validation_steps, validation_batch_size, validation_freq, max_queue_size, workers, use_multiprocessing)\u001b[0m\n\u001b[0;32m    846\u001b[0m                 batch_size=batch_size):\n\u001b[0;32m    847\u001b[0m               \u001b[0mcallbacks\u001b[0m\u001b[1;33m.\u001b[0m\u001b[0mon_train_batch_begin\u001b[0m\u001b[1;33m(\u001b[0m\u001b[0mstep\u001b[0m\u001b[1;33m)\u001b[0m\u001b[1;33m\u001b[0m\u001b[1;33m\u001b[0m\u001b[0m\n\u001b[1;32m--> 848\u001b[1;33m               \u001b[0mtmp_logs\u001b[0m \u001b[1;33m=\u001b[0m \u001b[0mtrain_function\u001b[0m\u001b[1;33m(\u001b[0m\u001b[0miterator\u001b[0m\u001b[1;33m)\u001b[0m\u001b[1;33m\u001b[0m\u001b[1;33m\u001b[0m\u001b[0m\n\u001b[0m\u001b[0;32m    849\u001b[0m               \u001b[1;31m# Catch OutOfRangeError for Datasets of unknown size.\u001b[0m\u001b[1;33m\u001b[0m\u001b[1;33m\u001b[0m\u001b[1;33m\u001b[0m\u001b[0m\n\u001b[0;32m    850\u001b[0m               \u001b[1;31m# This blocks until the batch has finished executing.\u001b[0m\u001b[1;33m\u001b[0m\u001b[1;33m\u001b[0m\u001b[1;33m\u001b[0m\u001b[0m\n",
      "\u001b[1;32m~\\miniconda3\\envs\\tensorflow\\lib\\site-packages\\tensorflow\\python\\eager\\def_function.py\u001b[0m in \u001b[0;36m__call__\u001b[1;34m(self, *args, **kwds)\u001b[0m\n\u001b[0;32m    578\u001b[0m         \u001b[0mxla_context\u001b[0m\u001b[1;33m.\u001b[0m\u001b[0mExit\u001b[0m\u001b[1;33m(\u001b[0m\u001b[1;33m)\u001b[0m\u001b[1;33m\u001b[0m\u001b[1;33m\u001b[0m\u001b[0m\n\u001b[0;32m    579\u001b[0m     \u001b[1;32melse\u001b[0m\u001b[1;33m:\u001b[0m\u001b[1;33m\u001b[0m\u001b[1;33m\u001b[0m\u001b[0m\n\u001b[1;32m--> 580\u001b[1;33m       \u001b[0mresult\u001b[0m \u001b[1;33m=\u001b[0m \u001b[0mself\u001b[0m\u001b[1;33m.\u001b[0m\u001b[0m_call\u001b[0m\u001b[1;33m(\u001b[0m\u001b[1;33m*\u001b[0m\u001b[0margs\u001b[0m\u001b[1;33m,\u001b[0m \u001b[1;33m**\u001b[0m\u001b[0mkwds\u001b[0m\u001b[1;33m)\u001b[0m\u001b[1;33m\u001b[0m\u001b[1;33m\u001b[0m\u001b[0m\n\u001b[0m\u001b[0;32m    581\u001b[0m \u001b[1;33m\u001b[0m\u001b[0m\n\u001b[0;32m    582\u001b[0m     \u001b[1;32mif\u001b[0m \u001b[0mtracing_count\u001b[0m \u001b[1;33m==\u001b[0m \u001b[0mself\u001b[0m\u001b[1;33m.\u001b[0m\u001b[0m_get_tracing_count\u001b[0m\u001b[1;33m(\u001b[0m\u001b[1;33m)\u001b[0m\u001b[1;33m:\u001b[0m\u001b[1;33m\u001b[0m\u001b[1;33m\u001b[0m\u001b[0m\n",
      "\u001b[1;32m~\\miniconda3\\envs\\tensorflow\\lib\\site-packages\\tensorflow\\python\\eager\\def_function.py\u001b[0m in \u001b[0;36m_call\u001b[1;34m(self, *args, **kwds)\u001b[0m\n\u001b[0;32m    609\u001b[0m       \u001b[1;31m# In this case we have created variables on the first call, so we run the\u001b[0m\u001b[1;33m\u001b[0m\u001b[1;33m\u001b[0m\u001b[1;33m\u001b[0m\u001b[0m\n\u001b[0;32m    610\u001b[0m       \u001b[1;31m# defunned version which is guaranteed to never create variables.\u001b[0m\u001b[1;33m\u001b[0m\u001b[1;33m\u001b[0m\u001b[1;33m\u001b[0m\u001b[0m\n\u001b[1;32m--> 611\u001b[1;33m       \u001b[1;32mreturn\u001b[0m \u001b[0mself\u001b[0m\u001b[1;33m.\u001b[0m\u001b[0m_stateless_fn\u001b[0m\u001b[1;33m(\u001b[0m\u001b[1;33m*\u001b[0m\u001b[0margs\u001b[0m\u001b[1;33m,\u001b[0m \u001b[1;33m**\u001b[0m\u001b[0mkwds\u001b[0m\u001b[1;33m)\u001b[0m  \u001b[1;31m# pylint: disable=not-callable\u001b[0m\u001b[1;33m\u001b[0m\u001b[1;33m\u001b[0m\u001b[0m\n\u001b[0m\u001b[0;32m    612\u001b[0m     \u001b[1;32melif\u001b[0m \u001b[0mself\u001b[0m\u001b[1;33m.\u001b[0m\u001b[0m_stateful_fn\u001b[0m \u001b[1;32mis\u001b[0m \u001b[1;32mnot\u001b[0m \u001b[1;32mNone\u001b[0m\u001b[1;33m:\u001b[0m\u001b[1;33m\u001b[0m\u001b[1;33m\u001b[0m\u001b[0m\n\u001b[0;32m    613\u001b[0m       \u001b[1;31m# Release the lock early so that multiple threads can perform the call\u001b[0m\u001b[1;33m\u001b[0m\u001b[1;33m\u001b[0m\u001b[1;33m\u001b[0m\u001b[0m\n",
      "\u001b[1;32m~\\miniconda3\\envs\\tensorflow\\lib\\site-packages\\tensorflow\\python\\eager\\function.py\u001b[0m in \u001b[0;36m__call__\u001b[1;34m(self, *args, **kwargs)\u001b[0m\n\u001b[0;32m   2418\u001b[0m     \u001b[1;32mwith\u001b[0m \u001b[0mself\u001b[0m\u001b[1;33m.\u001b[0m\u001b[0m_lock\u001b[0m\u001b[1;33m:\u001b[0m\u001b[1;33m\u001b[0m\u001b[1;33m\u001b[0m\u001b[0m\n\u001b[0;32m   2419\u001b[0m       \u001b[0mgraph_function\u001b[0m\u001b[1;33m,\u001b[0m \u001b[0margs\u001b[0m\u001b[1;33m,\u001b[0m \u001b[0mkwargs\u001b[0m \u001b[1;33m=\u001b[0m \u001b[0mself\u001b[0m\u001b[1;33m.\u001b[0m\u001b[0m_maybe_define_function\u001b[0m\u001b[1;33m(\u001b[0m\u001b[0margs\u001b[0m\u001b[1;33m,\u001b[0m \u001b[0mkwargs\u001b[0m\u001b[1;33m)\u001b[0m\u001b[1;33m\u001b[0m\u001b[1;33m\u001b[0m\u001b[0m\n\u001b[1;32m-> 2420\u001b[1;33m     \u001b[1;32mreturn\u001b[0m \u001b[0mgraph_function\u001b[0m\u001b[1;33m.\u001b[0m\u001b[0m_filtered_call\u001b[0m\u001b[1;33m(\u001b[0m\u001b[0margs\u001b[0m\u001b[1;33m,\u001b[0m \u001b[0mkwargs\u001b[0m\u001b[1;33m)\u001b[0m  \u001b[1;31m# pylint: disable=protected-access\u001b[0m\u001b[1;33m\u001b[0m\u001b[1;33m\u001b[0m\u001b[0m\n\u001b[0m\u001b[0;32m   2421\u001b[0m \u001b[1;33m\u001b[0m\u001b[0m\n\u001b[0;32m   2422\u001b[0m   \u001b[1;33m@\u001b[0m\u001b[0mproperty\u001b[0m\u001b[1;33m\u001b[0m\u001b[1;33m\u001b[0m\u001b[0m\n",
      "\u001b[1;32m~\\miniconda3\\envs\\tensorflow\\lib\\site-packages\\tensorflow\\python\\eager\\function.py\u001b[0m in \u001b[0;36m_filtered_call\u001b[1;34m(self, args, kwargs)\u001b[0m\n\u001b[0;32m   1663\u001b[0m          if isinstance(t, (ops.Tensor,\n\u001b[0;32m   1664\u001b[0m                            resource_variable_ops.BaseResourceVariable))),\n\u001b[1;32m-> 1665\u001b[1;33m         self.captured_inputs)\n\u001b[0m\u001b[0;32m   1666\u001b[0m \u001b[1;33m\u001b[0m\u001b[0m\n\u001b[0;32m   1667\u001b[0m   \u001b[1;32mdef\u001b[0m \u001b[0m_call_flat\u001b[0m\u001b[1;33m(\u001b[0m\u001b[0mself\u001b[0m\u001b[1;33m,\u001b[0m \u001b[0margs\u001b[0m\u001b[1;33m,\u001b[0m \u001b[0mcaptured_inputs\u001b[0m\u001b[1;33m,\u001b[0m \u001b[0mcancellation_manager\u001b[0m\u001b[1;33m=\u001b[0m\u001b[1;32mNone\u001b[0m\u001b[1;33m)\u001b[0m\u001b[1;33m:\u001b[0m\u001b[1;33m\u001b[0m\u001b[1;33m\u001b[0m\u001b[0m\n",
      "\u001b[1;32m~\\miniconda3\\envs\\tensorflow\\lib\\site-packages\\tensorflow\\python\\eager\\function.py\u001b[0m in \u001b[0;36m_call_flat\u001b[1;34m(self, args, captured_inputs, cancellation_manager)\u001b[0m\n\u001b[0;32m   1744\u001b[0m       \u001b[1;31m# No tape is watching; skip to running the function.\u001b[0m\u001b[1;33m\u001b[0m\u001b[1;33m\u001b[0m\u001b[1;33m\u001b[0m\u001b[0m\n\u001b[0;32m   1745\u001b[0m       return self._build_call_outputs(self._inference_function.call(\n\u001b[1;32m-> 1746\u001b[1;33m           ctx, args, cancellation_manager=cancellation_manager))\n\u001b[0m\u001b[0;32m   1747\u001b[0m     forward_backward = self._select_forward_and_backward_functions(\n\u001b[0;32m   1748\u001b[0m         \u001b[0margs\u001b[0m\u001b[1;33m,\u001b[0m\u001b[1;33m\u001b[0m\u001b[1;33m\u001b[0m\u001b[0m\n",
      "\u001b[1;32m~\\miniconda3\\envs\\tensorflow\\lib\\site-packages\\tensorflow\\python\\eager\\function.py\u001b[0m in \u001b[0;36mcall\u001b[1;34m(self, ctx, args, cancellation_manager)\u001b[0m\n\u001b[0;32m    596\u001b[0m               \u001b[0minputs\u001b[0m\u001b[1;33m=\u001b[0m\u001b[0margs\u001b[0m\u001b[1;33m,\u001b[0m\u001b[1;33m\u001b[0m\u001b[1;33m\u001b[0m\u001b[0m\n\u001b[0;32m    597\u001b[0m               \u001b[0mattrs\u001b[0m\u001b[1;33m=\u001b[0m\u001b[0mattrs\u001b[0m\u001b[1;33m,\u001b[0m\u001b[1;33m\u001b[0m\u001b[1;33m\u001b[0m\u001b[0m\n\u001b[1;32m--> 598\u001b[1;33m               ctx=ctx)\n\u001b[0m\u001b[0;32m    599\u001b[0m         \u001b[1;32melse\u001b[0m\u001b[1;33m:\u001b[0m\u001b[1;33m\u001b[0m\u001b[1;33m\u001b[0m\u001b[0m\n\u001b[0;32m    600\u001b[0m           outputs = execute.execute_with_cancellation(\n",
      "\u001b[1;32m~\\miniconda3\\envs\\tensorflow\\lib\\site-packages\\tensorflow\\python\\eager\\execute.py\u001b[0m in \u001b[0;36mquick_execute\u001b[1;34m(op_name, num_outputs, inputs, attrs, ctx, name)\u001b[0m\n\u001b[0;32m     58\u001b[0m     \u001b[0mctx\u001b[0m\u001b[1;33m.\u001b[0m\u001b[0mensure_initialized\u001b[0m\u001b[1;33m(\u001b[0m\u001b[1;33m)\u001b[0m\u001b[1;33m\u001b[0m\u001b[1;33m\u001b[0m\u001b[0m\n\u001b[0;32m     59\u001b[0m     tensors = pywrap_tfe.TFE_Py_Execute(ctx._handle, device_name, op_name,\n\u001b[1;32m---> 60\u001b[1;33m                                         inputs, attrs, num_outputs)\n\u001b[0m\u001b[0;32m     61\u001b[0m   \u001b[1;32mexcept\u001b[0m \u001b[0mcore\u001b[0m\u001b[1;33m.\u001b[0m\u001b[0m_NotOkStatusException\u001b[0m \u001b[1;32mas\u001b[0m \u001b[0me\u001b[0m\u001b[1;33m:\u001b[0m\u001b[1;33m\u001b[0m\u001b[1;33m\u001b[0m\u001b[0m\n\u001b[0;32m     62\u001b[0m     \u001b[1;32mif\u001b[0m \u001b[0mname\u001b[0m \u001b[1;32mis\u001b[0m \u001b[1;32mnot\u001b[0m \u001b[1;32mNone\u001b[0m\u001b[1;33m:\u001b[0m\u001b[1;33m\u001b[0m\u001b[1;33m\u001b[0m\u001b[0m\n",
      "\u001b[1;31mKeyboardInterrupt\u001b[0m: "
     ]
    }
   ],
   "source": [
    "# batch_size = 16\n",
    "# max_epochs = 10\n",
    "\n",
    "checkpointer = ModelCheckpoint(filepath='bestmodel.h5', verbose=0, save_best_only=True)\n",
    "earlystopper = EarlyStopping(monitor='val_loss', mode='min', min_delta=0.005, patience=20, verbose=0, restore_best_weights=True)\n",
    "\n",
    "hist = vae.fit(x_norm_train_sample, x_norm_train_sample, epochs=max_epochs, shuffle=True, verbose=1,\n",
    "               validation_data=(x_norm_val_sample, x_norm_val_sample), callbacks=[checkpointer, earlystopper])\n",
    "\n",
    "plot_loss(hist)"
   ]
  },
  {
   "cell_type": "code",
   "execution_count": null,
   "metadata": {},
   "outputs": [],
   "source": [
    "reconstruct_samples_n = 100\n",
    "\n",
    "def reconstruction_log_prob(eval_samples, reconstruct_samples_n):\n",
    "    encoder_out = encoder(eval_samples)\n",
    "    encoder_samples = encoder_out.sample(reconstruct_samples_n)\n",
    "    return np.mean(decoder(encoder_samples).log_prob(eval_samples), axis=0)"
   ]
  },
  {
   "cell_type": "code",
   "execution_count": null,
   "metadata": {},
   "outputs": [],
   "source": [
    "latent_x_mean = encoder(X).mean()\n",
    "plt.scatter(latent_x_mean[:, 0], latent_x_mean[:, 1], c=Y, cmap='RdYlGn_r', s=2)\n",
    "plt.title('latent means')\n",
    "plt.ylabel('mean[1]')\n",
    "plt.xlabel('mean[0]')\n",
    "plt.show()\n",
    "# tsne_plot(latent_x_mean, data_sample[\"Class\"].values, \"raw.png\")"
   ]
  },
  {
   "cell_type": "code",
   "execution_count": null,
   "metadata": {},
   "outputs": [],
   "source": [
    "latent_x_std = encoder(X).stddev()\n",
    "plt.scatter(latent_x_std[:, 0], latent_x_std[:, 1], c=Y, cmap='RdYlGn_r', s=2)\n",
    "plt.title('latent standard deviations')\n",
    "plt.ylabel('stddev[1]')\n",
    "plt.xlabel('stddev[0]')\n",
    "plt.show()"
   ]
  },
  {
   "cell_type": "code",
   "execution_count": null,
   "metadata": {},
   "outputs": [],
   "source": [
    "latent_x = encoder(X).sample()\n",
    "plt.scatter(latent_x[:, 0], latent_x[:, 1], c=Y, cmap='RdYlGn_r', s=2)\n",
    "plt.title('latent vector samples')\n",
    "plt.ylabel('z[1]')\n",
    "plt.xlabel('z[0]')\n",
    "plt.show()"
   ]
  },
  {
   "cell_type": "code",
   "execution_count": null,
   "metadata": {},
   "outputs": [],
   "source": [
    "x_log_prob = reconstruction_log_prob(X, reconstruct_samples_n)\n",
    "ax = plt.hist([x_log_prob[Y==0], x_log_prob[Y==1]], 97)\n",
    "plt.title('reconstruction log probability')\n",
    "plt.ylabel('frequency')\n",
    "plt.xlabel(\"log p(x|x')\")\n",
    "plt.show()"
   ]
  },
  {
   "cell_type": "code",
   "execution_count": null,
   "metadata": {},
   "outputs": [],
   "source": [
    "fpr, tpr, thresh = roc_curve(Y, -x_log_prob)\n",
    "auc = roc_auc_score(Y, -x_log_prob)\n",
    "\n",
    "plt.plot(fpr,tpr,label=\"linear in-sample, auc=\"+str(auc))\n",
    "plt.title('VAE roc curve - training')\n",
    "plt.ylabel('True Positive Rate')\n",
    "plt.xlabel(\"False Positive Rate\")\n",
    "plt.legend(loc='best')\n",
    "plt.show()"
   ]
  },
  {
   "cell_type": "code",
   "execution_count": null,
   "metadata": {},
   "outputs": [],
   "source": [
    "x_test_log_prob = reconstruction_log_prob(data_test.drop(['OUTCOME'], axis = 1).values, reconstruct_samples_n)\n",
    "test_y = data_test[\"OUTCOME\"].values\n",
    "\n",
    "fpr, tpr, thresh = roc_curve(test_y, -x_test_log_prob)\n",
    "auc = roc_auc_score(test_y, -x_test_log_prob)\n",
    "\n",
    "plt.plot(fpr,tpr,label=\"linear in-sample, auc=\"+str(auc))\n",
    "plt.title('VAE roc curve - test')\n",
    "plt.ylabel('True Positive Rate')\n",
    "plt.xlabel(\"False Positive Rate\")\n",
    "plt.legend(loc='best')\n",
    "plt.show()"
   ]
  },
  {
   "cell_type": "code",
   "execution_count": null,
   "metadata": {},
   "outputs": [],
   "source": [
    "# def dense_layers(sizes):\n",
    "#     return tfk.Sequential([tfkl.Dense(size, activation=tf.nn.relu) for size in sizes])\n",
    "\n",
    "original_dim = X_train.shape[1]\n",
    "input_shape = X_train.shape[1]\n",
    "# intermediary_dims = [75, 60, 50]\n",
    "latent_dim = 2\n",
    "batch_size = 128\n",
    "max_epochs = 30\n",
    "\n",
    "# prior = tfd.Independent(tfd.Normal(loc=tf.zeros(latent_dim), scale=1), reinterpreted_batch_ndims=1)\n",
    "\n",
    "prior = tfd.MultivariateNormalDiag(loc=tf.zeros([latent_dim]), scale_identity_multiplier=1.0)\n",
    "\n",
    "encoder = tfk.Sequential([\n",
    "    tfkl.InputLayer(input_shape=input_shape, name='encoder_input'),\n",
    "    tfkl.Dense(75, activation=tf.nn.relu),\n",
    "    tfkl.Dense(60, activation=tf.nn.relu),\n",
    "    tfkl.Dense(50, activation=tf.nn.relu),\n",
    "#    dense_layers(intermediary_dims),\n",
    "    tfkl.Dense(tfpl.MultivariateNormalTriL.params_size(latent_dim), activation=None),\n",
    "    tfpl.MultivariateNormalTriL(latent_dim, activity_regularizer=tfpl.KLDivergenceRegularizer(prior)),], name='encoder')\n",
    "\n",
    "encoder.summary()\n",
    "plot_model(encoder, to_file='vae_mlp_encoder.png', show_shapes=True)\n",
    "\n",
    "decoder = tfk.Sequential([\n",
    "    tfkl.InputLayer(input_shape=[latent_dim]),\n",
    "    tfkl.Dense(50, activation=tf.nn.relu),\n",
    "    tfkl.Dense(60, activation=tf.nn.relu),\n",
    "    tfkl.Dense(75, activation=tf.nn.relu),\n",
    "#    dense_layers(reversed(intermediary_dims)),\n",
    "    tfkl.Dense(tfpl.IndependentNormal.params_size(original_dim), activation=None), \n",
    "    tfpl.IndependentNormal(original_dim),], name='decoder')\n",
    "\n",
    "decoder.summary()\n",
    "plot_model(decoder, to_file='vae_mlp_decoder.png', show_shapes=True)\n",
    "\n",
    "vae = tfk.Model(inputs=encoder.inputs, outputs=decoder(encoder.outputs[0]), name='vae_mlp')\n",
    "\n",
    "negloglik = lambda x, rv_x: -rv_x.log_prob(x)\n",
    "\n",
    "vae.compile(optimizer=tf.keras.optimizers.Nadam(), loss=negloglik, metrics=['accuracy'])\n",
    "\n",
    "vae.summary()\n",
    "plot_model(vae, to_file='vae_mlp.png', show_shapes=True)"
   ]
  },
  {
   "cell_type": "code",
   "execution_count": null,
   "metadata": {},
   "outputs": [],
   "source": []
  }
 ],
 "metadata": {
  "kernelspec": {
   "display_name": "Python 3.7 (tensorflow)",
   "language": "python",
   "name": "tensorflow"
  },
  "language_info": {
   "codemirror_mode": {
    "name": "ipython",
    "version": 3
   },
   "file_extension": ".py",
   "mimetype": "text/x-python",
   "name": "python",
   "nbconvert_exporter": "python",
   "pygments_lexer": "ipython3",
   "version": "3.7.7"
  }
 },
 "nbformat": 4,
 "nbformat_minor": 4
}
